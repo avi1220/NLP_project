{
 "cells": [
  {
   "cell_type": "markdown",
   "metadata": {},
   "source": [
    "#                         PRODUCT REVIEW SUMMARIZATION"
   ]
  },
  {
   "cell_type": "markdown",
   "metadata": {},
   "source": [
    "                                             INTRODUCTION\n",
    "Talking about the past decade, online shopping market has reached new heights. The e-commerce industry has grown at a rapid pace in this period and now days it’s an essential part of human lives all over the world. Online shopping now has a vast variety of products which are being purchased on a simple web application hassle free. The continuous improvement in the whole process by use of growing technology has brought a wide range of services to give the customer real time shopping experience. One of these services include customer reviews which are found to be very helpful in providing a full-fledged information of the product. Not only the images, prices, specifications but the reviews also are a part of a product catalogue now days. \n",
    "\n",
    "                                             DATA DESCRIPTION\n",
    " The data description is with a file named “Cell_Phones_and_Accessories.json” are as follows:\n",
    " \n",
    " \n",
    " IC – Item Code of the product, e.g. B016MF3P3K\n",
    "\n",
    " Reviewer_Name - Name of the reviewer\n",
    "\n",
    " Useful- Number of useful votes (upvotes) of the review\n",
    "\n",
    " Prod_meta- a dictionary of the product metadata. It contains only additional information about the product, if any available.\n",
    "\n",
    " Review- text of the review\n",
    "\n",
    " Rating- rating given to the product by the reviewer.\n",
    "\n",
    " Rev_summ- summary of the review\n",
    "\n",
    " Review_timestamp- time when the review has been posted (unix time format)\n",
    "\n",
    " Review_Date- Date when the review has been posted\n",
    "\n",
    " Prod_img- images that users post after they have received the product\n",
    "\n",
    " Rev_verify- Flag to represent whether the review has been verified or not. (True/False)\n"
   ]
  },
  {
   "cell_type": "markdown",
   "metadata": {},
   "source": [
    "# Data Wrangling #"
   ]
  },
  {
   "cell_type": "code",
   "execution_count": 1,
   "metadata": {},
   "outputs": [],
   "source": [
    "import pandas as pd\n",
    "import numpy as np\n",
    "import warnings\n",
    "warnings.filterwarnings('ignore')\n"
   ]
  },
  {
   "cell_type": "code",
   "execution_count": 2,
   "metadata": {},
   "outputs": [
    {
     "data": {
      "text/html": [
       "<div>\n",
       "<style scoped>\n",
       "    .dataframe tbody tr th:only-of-type {\n",
       "        vertical-align: middle;\n",
       "    }\n",
       "\n",
       "    .dataframe tbody tr th {\n",
       "        vertical-align: top;\n",
       "    }\n",
       "\n",
       "    .dataframe thead th {\n",
       "        text-align: right;\n",
       "    }\n",
       "</style>\n",
       "<table border=\"1\" class=\"dataframe\">\n",
       "  <thead>\n",
       "    <tr style=\"text-align: right;\">\n",
       "      <th></th>\n",
       "      <th>Rating</th>\n",
       "      <th>Rev_verify</th>\n",
       "      <th>Review_Date</th>\n",
       "      <th>IC</th>\n",
       "      <th>Prod_meta</th>\n",
       "      <th>Reviewer_Name</th>\n",
       "      <th>Review</th>\n",
       "      <th>Rev_summ</th>\n",
       "      <th>Review_timestamp</th>\n",
       "      <th>Useful</th>\n",
       "      <th>Prod_img</th>\n",
       "    </tr>\n",
       "  </thead>\n",
       "  <tbody>\n",
       "    <tr>\n",
       "      <td>0</td>\n",
       "      <td>5</td>\n",
       "      <td>True</td>\n",
       "      <td>09 1, 2015</td>\n",
       "      <td>B009XD5TPQ</td>\n",
       "      <td>None</td>\n",
       "      <td>Sunny  Zoeller</td>\n",
       "      <td>Bought it for my husband. He's very happy with it</td>\n",
       "      <td>He's very happy with</td>\n",
       "      <td>1441065600</td>\n",
       "      <td>None</td>\n",
       "      <td>None</td>\n",
       "    </tr>\n",
       "    <tr>\n",
       "      <td>1</td>\n",
       "      <td>5</td>\n",
       "      <td>True</td>\n",
       "      <td>01 9, 2016</td>\n",
       "      <td>B016MF3P3K</td>\n",
       "      <td>None</td>\n",
       "      <td>Denise Lesley</td>\n",
       "      <td>Great screen protector.  Doesn't even seem as ...</td>\n",
       "      <td>Five Stars</td>\n",
       "      <td>1452297600</td>\n",
       "      <td>None</td>\n",
       "      <td>None</td>\n",
       "    </tr>\n",
       "    <tr>\n",
       "      <td>2</td>\n",
       "      <td>5</td>\n",
       "      <td>True</td>\n",
       "      <td>04 21, 2013</td>\n",
       "      <td>B008DC8N5G</td>\n",
       "      <td>None</td>\n",
       "      <td>Emir</td>\n",
       "      <td>Saved me lots of money! it's not gorilla glass...</td>\n",
       "      <td>As long as you know how to put it on!</td>\n",
       "      <td>1366502400</td>\n",
       "      <td>None</td>\n",
       "      <td>None</td>\n",
       "    </tr>\n",
       "    <tr>\n",
       "      <td>3</td>\n",
       "      <td>3</td>\n",
       "      <td>True</td>\n",
       "      <td>02 27, 2013</td>\n",
       "      <td>B0089CH3TM</td>\n",
       "      <td>{'Color:': ' Green'}</td>\n",
       "      <td>Alyse</td>\n",
       "      <td>The material and fit is very nice, but the col...</td>\n",
       "      <td>Good case overall</td>\n",
       "      <td>1361923200</td>\n",
       "      <td>3</td>\n",
       "      <td>None</td>\n",
       "    </tr>\n",
       "    <tr>\n",
       "      <td>4</td>\n",
       "      <td>4</td>\n",
       "      <td>True</td>\n",
       "      <td>12 19, 2013</td>\n",
       "      <td>B00AKZWGAC</td>\n",
       "      <td>None</td>\n",
       "      <td>TechGuy</td>\n",
       "      <td>This last me about 3 days till i have to charg...</td>\n",
       "      <td>Awesome Battery</td>\n",
       "      <td>1387411200</td>\n",
       "      <td>None</td>\n",
       "      <td>None</td>\n",
       "    </tr>\n",
       "  </tbody>\n",
       "</table>\n",
       "</div>"
      ],
      "text/plain": [
       "   Rating  Rev_verify  Review_Date          IC             Prod_meta  \\\n",
       "0       5        True   09 1, 2015  B009XD5TPQ                  None   \n",
       "1       5        True   01 9, 2016  B016MF3P3K                  None   \n",
       "2       5        True  04 21, 2013  B008DC8N5G                  None   \n",
       "3       3        True  02 27, 2013  B0089CH3TM  {'Color:': ' Green'}   \n",
       "4       4        True  12 19, 2013  B00AKZWGAC                  None   \n",
       "\n",
       "    Reviewer_Name                                             Review  \\\n",
       "0  Sunny  Zoeller  Bought it for my husband. He's very happy with it   \n",
       "1   Denise Lesley  Great screen protector.  Doesn't even seem as ...   \n",
       "2            Emir  Saved me lots of money! it's not gorilla glass...   \n",
       "3           Alyse  The material and fit is very nice, but the col...   \n",
       "4         TechGuy  This last me about 3 days till i have to charg...   \n",
       "\n",
       "                                Rev_summ  Review_timestamp Useful Prod_img  \n",
       "0                   He's very happy with        1441065600   None     None  \n",
       "1                             Five Stars        1452297600   None     None  \n",
       "2  As long as you know how to put it on!        1366502400   None     None  \n",
       "3                      Good case overall        1361923200      3     None  \n",
       "4                        Awesome Battery        1387411200   None     None  "
      ]
     },
     "execution_count": 2,
     "metadata": {},
     "output_type": "execute_result"
    }
   ],
   "source": [
    "df=pd.read_json(\"Cell_Phones_and_Accessories.json\")\n",
    "df.head()"
   ]
  },
  {
   "cell_type": "code",
   "execution_count": 3,
   "metadata": {},
   "outputs": [
    {
     "name": "stdout",
     "output_type": "stream",
     "text": [
      "<class 'pandas.core.frame.DataFrame'>\n",
      "Int64Index: 760450 entries, 0 to 760449\n",
      "Data columns (total 11 columns):\n",
      "Rating              760450 non-null int64\n",
      "Rev_verify          760450 non-null bool\n",
      "Review_Date         760450 non-null object\n",
      "IC                  760450 non-null object\n",
      "Prod_meta           407826 non-null object\n",
      "Reviewer_Name       760359 non-null object\n",
      "Review              759920 non-null object\n",
      "Rev_summ            760095 non-null object\n",
      "Review_timestamp    760450 non-null int64\n",
      "Useful              62200 non-null object\n",
      "Prod_img            18194 non-null object\n",
      "dtypes: bool(1), int64(2), object(8)\n",
      "memory usage: 64.5+ MB\n"
     ]
    }
   ],
   "source": [
    "df.info()"
   ]
  },
  {
   "cell_type": "markdown",
   "metadata": {},
   "source": [
    "Only the `Rating` and the `Review_timestamp` series are stored as integers. The rest are interpreted as strings (objects) and `Rev_verify` in boolean."
   ]
  },
  {
   "cell_type": "code",
   "execution_count": 4,
   "metadata": {},
   "outputs": [],
   "source": [
    "from datetime import datetime\n",
    "\n",
    "condition = lambda row: datetime.fromtimestamp(row).strftime(\"%m-%d-%Y\")\n",
    "df[\"Review_timestamp\"] = df[\"Review_timestamp\"].apply(condition)"
   ]
  },
  {
   "cell_type": "markdown",
   "metadata": {},
   "source": [
    "The `Review_timestamp` is converted from Unix time to the more intuitive `datetime` datatype.The `reviewTime` is dropped since the `Review_timestamp` series are seen to be same as `Review_Date`, so we can drop any one column."
   ]
  },
  {
   "cell_type": "code",
   "execution_count": 5,
   "metadata": {},
   "outputs": [
    {
     "data": {
      "text/html": [
       "<div>\n",
       "<style scoped>\n",
       "    .dataframe tbody tr th:only-of-type {\n",
       "        vertical-align: middle;\n",
       "    }\n",
       "\n",
       "    .dataframe tbody tr th {\n",
       "        vertical-align: top;\n",
       "    }\n",
       "\n",
       "    .dataframe thead th {\n",
       "        text-align: right;\n",
       "    }\n",
       "</style>\n",
       "<table border=\"1\" class=\"dataframe\">\n",
       "  <thead>\n",
       "    <tr style=\"text-align: right;\">\n",
       "      <th></th>\n",
       "      <th>Rating</th>\n",
       "      <th>Rev_verify</th>\n",
       "      <th>Review_Date</th>\n",
       "      <th>IC</th>\n",
       "      <th>Prod_meta</th>\n",
       "      <th>Reviewer_Name</th>\n",
       "      <th>Review</th>\n",
       "      <th>Rev_summ</th>\n",
       "      <th>Review_timestamp</th>\n",
       "      <th>Useful</th>\n",
       "      <th>Prod_img</th>\n",
       "    </tr>\n",
       "  </thead>\n",
       "  <tbody>\n",
       "    <tr>\n",
       "      <td>0</td>\n",
       "      <td>5</td>\n",
       "      <td>True</td>\n",
       "      <td>09 1, 2015</td>\n",
       "      <td>B009XD5TPQ</td>\n",
       "      <td>None</td>\n",
       "      <td>Sunny  Zoeller</td>\n",
       "      <td>Bought it for my husband. He's very happy with it</td>\n",
       "      <td>He's very happy with</td>\n",
       "      <td>09-01-2015</td>\n",
       "      <td>None</td>\n",
       "      <td>None</td>\n",
       "    </tr>\n",
       "    <tr>\n",
       "      <td>1</td>\n",
       "      <td>5</td>\n",
       "      <td>True</td>\n",
       "      <td>01 9, 2016</td>\n",
       "      <td>B016MF3P3K</td>\n",
       "      <td>None</td>\n",
       "      <td>Denise Lesley</td>\n",
       "      <td>Great screen protector.  Doesn't even seem as ...</td>\n",
       "      <td>Five Stars</td>\n",
       "      <td>01-09-2016</td>\n",
       "      <td>None</td>\n",
       "      <td>None</td>\n",
       "    </tr>\n",
       "    <tr>\n",
       "      <td>2</td>\n",
       "      <td>5</td>\n",
       "      <td>True</td>\n",
       "      <td>04 21, 2013</td>\n",
       "      <td>B008DC8N5G</td>\n",
       "      <td>None</td>\n",
       "      <td>Emir</td>\n",
       "      <td>Saved me lots of money! it's not gorilla glass...</td>\n",
       "      <td>As long as you know how to put it on!</td>\n",
       "      <td>04-21-2013</td>\n",
       "      <td>None</td>\n",
       "      <td>None</td>\n",
       "    </tr>\n",
       "    <tr>\n",
       "      <td>3</td>\n",
       "      <td>3</td>\n",
       "      <td>True</td>\n",
       "      <td>02 27, 2013</td>\n",
       "      <td>B0089CH3TM</td>\n",
       "      <td>{'Color:': ' Green'}</td>\n",
       "      <td>Alyse</td>\n",
       "      <td>The material and fit is very nice, but the col...</td>\n",
       "      <td>Good case overall</td>\n",
       "      <td>02-27-2013</td>\n",
       "      <td>3</td>\n",
       "      <td>None</td>\n",
       "    </tr>\n",
       "    <tr>\n",
       "      <td>4</td>\n",
       "      <td>4</td>\n",
       "      <td>True</td>\n",
       "      <td>12 19, 2013</td>\n",
       "      <td>B00AKZWGAC</td>\n",
       "      <td>None</td>\n",
       "      <td>TechGuy</td>\n",
       "      <td>This last me about 3 days till i have to charg...</td>\n",
       "      <td>Awesome Battery</td>\n",
       "      <td>12-19-2013</td>\n",
       "      <td>None</td>\n",
       "      <td>None</td>\n",
       "    </tr>\n",
       "  </tbody>\n",
       "</table>\n",
       "</div>"
      ],
      "text/plain": [
       "   Rating  Rev_verify  Review_Date          IC             Prod_meta  \\\n",
       "0       5        True   09 1, 2015  B009XD5TPQ                  None   \n",
       "1       5        True   01 9, 2016  B016MF3P3K                  None   \n",
       "2       5        True  04 21, 2013  B008DC8N5G                  None   \n",
       "3       3        True  02 27, 2013  B0089CH3TM  {'Color:': ' Green'}   \n",
       "4       4        True  12 19, 2013  B00AKZWGAC                  None   \n",
       "\n",
       "    Reviewer_Name                                             Review  \\\n",
       "0  Sunny  Zoeller  Bought it for my husband. He's very happy with it   \n",
       "1   Denise Lesley  Great screen protector.  Doesn't even seem as ...   \n",
       "2            Emir  Saved me lots of money! it's not gorilla glass...   \n",
       "3           Alyse  The material and fit is very nice, but the col...   \n",
       "4         TechGuy  This last me about 3 days till i have to charg...   \n",
       "\n",
       "                                Rev_summ Review_timestamp Useful Prod_img  \n",
       "0                   He's very happy with       09-01-2015   None     None  \n",
       "1                             Five Stars       01-09-2016   None     None  \n",
       "2  As long as you know how to put it on!       04-21-2013   None     None  \n",
       "3                      Good case overall       02-27-2013      3     None  \n",
       "4                        Awesome Battery       12-19-2013   None     None  "
      ]
     },
     "execution_count": 5,
     "metadata": {},
     "output_type": "execute_result"
    }
   ],
   "source": [
    "df.head()"
   ]
  },
  {
   "cell_type": "code",
   "execution_count": 6,
   "metadata": {},
   "outputs": [
    {
     "data": {
      "text/plain": [
       "Rating                   0\n",
       "Rev_verify               0\n",
       "Review_Date              0\n",
       "IC                       0\n",
       "Prod_meta           352624\n",
       "Reviewer_Name           91\n",
       "Review                 530\n",
       "Rev_summ               355\n",
       "Review_timestamp         0\n",
       "Useful              698250\n",
       "Prod_img            742256\n",
       "dtype: int64"
      ]
     },
     "execution_count": 6,
     "metadata": {},
     "output_type": "execute_result"
    }
   ],
   "source": [
    "df.isnull().sum()"
   ]
  },
  {
   "cell_type": "code",
   "execution_count": 7,
   "metadata": {},
   "outputs": [],
   "source": [
    "#Dropping all those column which are not important for the process and also drop `Prod_meta`,`Useful`,`Prod_img` \n",
    "# because it have max number of null value \n",
    "\n",
    "df.drop(labels=[\"Reviewer_Name\",\"Review_timestamp\",\"Useful\",\"Prod_img\",\"Review_Date\",\"Prod_meta\"], axis=1, inplace=True)"
   ]
  },
  {
   "cell_type": "code",
   "execution_count": 8,
   "metadata": {},
   "outputs": [],
   "source": [
    "#Dropping all the `nan` values which is present in rest of data\n",
    "\n",
    "df.dropna(inplace=True)"
   ]
  },
  {
   "cell_type": "code",
   "execution_count": 9,
   "metadata": {},
   "outputs": [
    {
     "data": {
      "text/plain": [
       "Rating        0\n",
       "Rev_verify    0\n",
       "IC            0\n",
       "Review        0\n",
       "Rev_summ      0\n",
       "dtype: int64"
      ]
     },
     "execution_count": 9,
     "metadata": {},
     "output_type": "execute_result"
    }
   ],
   "source": [
    "df.isnull().sum()"
   ]
  },
  {
   "cell_type": "code",
   "execution_count": 10,
   "metadata": {},
   "outputs": [
    {
     "data": {
      "text/html": [
       "<div>\n",
       "<style scoped>\n",
       "    .dataframe tbody tr th:only-of-type {\n",
       "        vertical-align: middle;\n",
       "    }\n",
       "\n",
       "    .dataframe tbody tr th {\n",
       "        vertical-align: top;\n",
       "    }\n",
       "\n",
       "    .dataframe thead th {\n",
       "        text-align: right;\n",
       "    }\n",
       "</style>\n",
       "<table border=\"1\" class=\"dataframe\">\n",
       "  <thead>\n",
       "    <tr style=\"text-align: right;\">\n",
       "      <th></th>\n",
       "      <th>Rating</th>\n",
       "      <th>Rev_verify</th>\n",
       "      <th>IC</th>\n",
       "      <th>Review</th>\n",
       "      <th>Rev_summ</th>\n",
       "    </tr>\n",
       "  </thead>\n",
       "  <tbody>\n",
       "    <tr>\n",
       "      <td>0</td>\n",
       "      <td>5</td>\n",
       "      <td>True</td>\n",
       "      <td>B009XD5TPQ</td>\n",
       "      <td>Bought it for my husband. He's very happy with it</td>\n",
       "      <td>He's very happy with</td>\n",
       "    </tr>\n",
       "    <tr>\n",
       "      <td>1</td>\n",
       "      <td>5</td>\n",
       "      <td>True</td>\n",
       "      <td>B016MF3P3K</td>\n",
       "      <td>Great screen protector.  Doesn't even seem as ...</td>\n",
       "      <td>Five Stars</td>\n",
       "    </tr>\n",
       "    <tr>\n",
       "      <td>2</td>\n",
       "      <td>5</td>\n",
       "      <td>True</td>\n",
       "      <td>B008DC8N5G</td>\n",
       "      <td>Saved me lots of money! it's not gorilla glass...</td>\n",
       "      <td>As long as you know how to put it on!</td>\n",
       "    </tr>\n",
       "    <tr>\n",
       "      <td>3</td>\n",
       "      <td>3</td>\n",
       "      <td>True</td>\n",
       "      <td>B0089CH3TM</td>\n",
       "      <td>The material and fit is very nice, but the col...</td>\n",
       "      <td>Good case overall</td>\n",
       "    </tr>\n",
       "    <tr>\n",
       "      <td>4</td>\n",
       "      <td>4</td>\n",
       "      <td>True</td>\n",
       "      <td>B00AKZWGAC</td>\n",
       "      <td>This last me about 3 days till i have to charg...</td>\n",
       "      <td>Awesome Battery</td>\n",
       "    </tr>\n",
       "    <tr>\n",
       "      <td>5</td>\n",
       "      <td>5</td>\n",
       "      <td>True</td>\n",
       "      <td>B00MAWPGMI</td>\n",
       "      <td>Love this case, very sturdy!</td>\n",
       "      <td>Five Stars</td>\n",
       "    </tr>\n",
       "    <tr>\n",
       "      <td>6</td>\n",
       "      <td>5</td>\n",
       "      <td>False</td>\n",
       "      <td>B00NB7B4GI</td>\n",
       "      <td>Simple and good quality iPhone 6 case. Fits on...</td>\n",
       "      <td>Simple and good quality iPhone 6 case</td>\n",
       "    </tr>\n",
       "    <tr>\n",
       "      <td>7</td>\n",
       "      <td>5</td>\n",
       "      <td>True</td>\n",
       "      <td>B00NMR6N7W</td>\n",
       "      <td>Great screen protector for the money! Paid $1....</td>\n",
       "      <td>Perfect!</td>\n",
       "    </tr>\n",
       "    <tr>\n",
       "      <td>8</td>\n",
       "      <td>5</td>\n",
       "      <td>True</td>\n",
       "      <td>B018V60504</td>\n",
       "      <td>Nice charger. One problem, one if the two USB ...</td>\n",
       "      <td>Make sure your Items work before you miss the ...</td>\n",
       "    </tr>\n",
       "    <tr>\n",
       "      <td>9</td>\n",
       "      <td>5</td>\n",
       "      <td>False</td>\n",
       "      <td>B00PG8TID6</td>\n",
       "      <td>Most battery packs for iPhones come as a total...</td>\n",
       "      <td>This clever design combines a battery pack int...</td>\n",
       "    </tr>\n",
       "  </tbody>\n",
       "</table>\n",
       "</div>"
      ],
      "text/plain": [
       "   Rating  Rev_verify          IC  \\\n",
       "0       5        True  B009XD5TPQ   \n",
       "1       5        True  B016MF3P3K   \n",
       "2       5        True  B008DC8N5G   \n",
       "3       3        True  B0089CH3TM   \n",
       "4       4        True  B00AKZWGAC   \n",
       "5       5        True  B00MAWPGMI   \n",
       "6       5       False  B00NB7B4GI   \n",
       "7       5        True  B00NMR6N7W   \n",
       "8       5        True  B018V60504   \n",
       "9       5       False  B00PG8TID6   \n",
       "\n",
       "                                              Review  \\\n",
       "0  Bought it for my husband. He's very happy with it   \n",
       "1  Great screen protector.  Doesn't even seem as ...   \n",
       "2  Saved me lots of money! it's not gorilla glass...   \n",
       "3  The material and fit is very nice, but the col...   \n",
       "4  This last me about 3 days till i have to charg...   \n",
       "5                       Love this case, very sturdy!   \n",
       "6  Simple and good quality iPhone 6 case. Fits on...   \n",
       "7  Great screen protector for the money! Paid $1....   \n",
       "8  Nice charger. One problem, one if the two USB ...   \n",
       "9  Most battery packs for iPhones come as a total...   \n",
       "\n",
       "                                            Rev_summ  \n",
       "0                               He's very happy with  \n",
       "1                                         Five Stars  \n",
       "2              As long as you know how to put it on!  \n",
       "3                                  Good case overall  \n",
       "4                                    Awesome Battery  \n",
       "5                                         Five Stars  \n",
       "6              Simple and good quality iPhone 6 case  \n",
       "7                                           Perfect!  \n",
       "8  Make sure your Items work before you miss the ...  \n",
       "9  This clever design combines a battery pack int...  "
      ]
     },
     "execution_count": 10,
     "metadata": {},
     "output_type": "execute_result"
    }
   ],
   "source": [
    "df.head(10)"
   ]
  },
  {
   "cell_type": "code",
   "execution_count": 11,
   "metadata": {},
   "outputs": [
    {
     "data": {
      "text/plain": [
       "5    475982\n",
       "4    123871\n",
       "3     66350\n",
       "1     54948\n",
       "2     38451\n",
       "Name: Rating, dtype: int64"
      ]
     },
     "execution_count": 11,
     "metadata": {},
     "output_type": "execute_result"
    }
   ],
   "source": [
    "df['Rating'].value_counts()"
   ]
  },
  {
   "cell_type": "code",
   "execution_count": 12,
   "metadata": {},
   "outputs": [
    {
     "data": {
      "text/plain": [
       "True     664660\n",
       "False     94942\n",
       "Name: Rev_verify, dtype: int64"
      ]
     },
     "execution_count": 12,
     "metadata": {},
     "output_type": "execute_result"
    }
   ],
   "source": [
    "df['Rev_verify'].value_counts()"
   ]
  },
  {
   "cell_type": "code",
   "execution_count": 13,
   "metadata": {},
   "outputs": [
    {
     "data": {
      "text/html": [
       "<div>\n",
       "<style scoped>\n",
       "    .dataframe tbody tr th:only-of-type {\n",
       "        vertical-align: middle;\n",
       "    }\n",
       "\n",
       "    .dataframe tbody tr th {\n",
       "        vertical-align: top;\n",
       "    }\n",
       "\n",
       "    .dataframe thead th {\n",
       "        text-align: right;\n",
       "    }\n",
       "</style>\n",
       "<table border=\"1\" class=\"dataframe\">\n",
       "  <thead>\n",
       "    <tr style=\"text-align: right;\">\n",
       "      <th></th>\n",
       "      <th>Rating</th>\n",
       "      <th>Rev_verify</th>\n",
       "      <th>IC</th>\n",
       "      <th>Review</th>\n",
       "      <th>Rev_summ</th>\n",
       "    </tr>\n",
       "  </thead>\n",
       "  <tbody>\n",
       "    <tr>\n",
       "      <td>0</td>\n",
       "      <td>5</td>\n",
       "      <td>True</td>\n",
       "      <td>B009XD5TPQ</td>\n",
       "      <td>Bought it for my husband. He's very happy with it</td>\n",
       "      <td>He's very happy with</td>\n",
       "    </tr>\n",
       "    <tr>\n",
       "      <td>1</td>\n",
       "      <td>5</td>\n",
       "      <td>True</td>\n",
       "      <td>B016MF3P3K</td>\n",
       "      <td>Great screen protector.  Doesn't even seem as ...</td>\n",
       "      <td>Five Stars</td>\n",
       "    </tr>\n",
       "    <tr>\n",
       "      <td>2</td>\n",
       "      <td>5</td>\n",
       "      <td>True</td>\n",
       "      <td>B008DC8N5G</td>\n",
       "      <td>Saved me lots of money! it's not gorilla glass...</td>\n",
       "      <td>As long as you know how to put it on!</td>\n",
       "    </tr>\n",
       "    <tr>\n",
       "      <td>3</td>\n",
       "      <td>3</td>\n",
       "      <td>True</td>\n",
       "      <td>B0089CH3TM</td>\n",
       "      <td>The material and fit is very nice, but the col...</td>\n",
       "      <td>Good case overall</td>\n",
       "    </tr>\n",
       "    <tr>\n",
       "      <td>4</td>\n",
       "      <td>4</td>\n",
       "      <td>True</td>\n",
       "      <td>B00AKZWGAC</td>\n",
       "      <td>This last me about 3 days till i have to charg...</td>\n",
       "      <td>Awesome Battery</td>\n",
       "    </tr>\n",
       "  </tbody>\n",
       "</table>\n",
       "</div>"
      ],
      "text/plain": [
       "   Rating  Rev_verify          IC  \\\n",
       "0       5        True  B009XD5TPQ   \n",
       "1       5        True  B016MF3P3K   \n",
       "2       5        True  B008DC8N5G   \n",
       "3       3        True  B0089CH3TM   \n",
       "4       4        True  B00AKZWGAC   \n",
       "\n",
       "                                              Review  \\\n",
       "0  Bought it for my husband. He's very happy with it   \n",
       "1  Great screen protector.  Doesn't even seem as ...   \n",
       "2  Saved me lots of money! it's not gorilla glass...   \n",
       "3  The material and fit is very nice, but the col...   \n",
       "4  This last me about 3 days till i have to charg...   \n",
       "\n",
       "                                Rev_summ  \n",
       "0                   He's very happy with  \n",
       "1                             Five Stars  \n",
       "2  As long as you know how to put it on!  \n",
       "3                      Good case overall  \n",
       "4                        Awesome Battery  "
      ]
     },
     "execution_count": 13,
     "metadata": {},
     "output_type": "execute_result"
    }
   ],
   "source": [
    "#There are some review which is not verify so it is better to go only with true verified reviews.\n",
    "\n",
    "df=df[(df['Rev_verify']==True)]\n",
    "df.head()"
   ]
  },
  {
   "cell_type": "code",
   "execution_count": 14,
   "metadata": {},
   "outputs": [],
   "source": [
    "# Now dataset have only verified review so droping `Rev_verify` column\n",
    "\n",
    "df.drop([\"Rev_verify\"],axis=1,inplace=True)"
   ]
  },
  {
   "cell_type": "code",
   "execution_count": 15,
   "metadata": {},
   "outputs": [],
   "source": [
    "# merge `Review`,`Rev_summ` into single column\n",
    "\n",
    "df['new_review'] = df['Review'] + df['Rev_summ']"
   ]
  },
  {
   "cell_type": "code",
   "execution_count": 16,
   "metadata": {},
   "outputs": [
    {
     "data": {
      "text/html": [
       "<div>\n",
       "<style scoped>\n",
       "    .dataframe tbody tr th:only-of-type {\n",
       "        vertical-align: middle;\n",
       "    }\n",
       "\n",
       "    .dataframe tbody tr th {\n",
       "        vertical-align: top;\n",
       "    }\n",
       "\n",
       "    .dataframe thead th {\n",
       "        text-align: right;\n",
       "    }\n",
       "</style>\n",
       "<table border=\"1\" class=\"dataframe\">\n",
       "  <thead>\n",
       "    <tr style=\"text-align: right;\">\n",
       "      <th></th>\n",
       "      <th>Rating</th>\n",
       "      <th>IC</th>\n",
       "      <th>Review</th>\n",
       "      <th>Rev_summ</th>\n",
       "      <th>new_review</th>\n",
       "    </tr>\n",
       "  </thead>\n",
       "  <tbody>\n",
       "    <tr>\n",
       "      <td>0</td>\n",
       "      <td>5</td>\n",
       "      <td>B009XD5TPQ</td>\n",
       "      <td>Bought it for my husband. He's very happy with it</td>\n",
       "      <td>He's very happy with</td>\n",
       "      <td>Bought it for my husband. He's very happy with...</td>\n",
       "    </tr>\n",
       "    <tr>\n",
       "      <td>1</td>\n",
       "      <td>5</td>\n",
       "      <td>B016MF3P3K</td>\n",
       "      <td>Great screen protector.  Doesn't even seem as ...</td>\n",
       "      <td>Five Stars</td>\n",
       "      <td>Great screen protector.  Doesn't even seem as ...</td>\n",
       "    </tr>\n",
       "    <tr>\n",
       "      <td>2</td>\n",
       "      <td>5</td>\n",
       "      <td>B008DC8N5G</td>\n",
       "      <td>Saved me lots of money! it's not gorilla glass...</td>\n",
       "      <td>As long as you know how to put it on!</td>\n",
       "      <td>Saved me lots of money! it's not gorilla glass...</td>\n",
       "    </tr>\n",
       "    <tr>\n",
       "      <td>3</td>\n",
       "      <td>3</td>\n",
       "      <td>B0089CH3TM</td>\n",
       "      <td>The material and fit is very nice, but the col...</td>\n",
       "      <td>Good case overall</td>\n",
       "      <td>The material and fit is very nice, but the col...</td>\n",
       "    </tr>\n",
       "    <tr>\n",
       "      <td>4</td>\n",
       "      <td>4</td>\n",
       "      <td>B00AKZWGAC</td>\n",
       "      <td>This last me about 3 days till i have to charg...</td>\n",
       "      <td>Awesome Battery</td>\n",
       "      <td>This last me about 3 days till i have to charg...</td>\n",
       "    </tr>\n",
       "  </tbody>\n",
       "</table>\n",
       "</div>"
      ],
      "text/plain": [
       "   Rating          IC                                             Review  \\\n",
       "0       5  B009XD5TPQ  Bought it for my husband. He's very happy with it   \n",
       "1       5  B016MF3P3K  Great screen protector.  Doesn't even seem as ...   \n",
       "2       5  B008DC8N5G  Saved me lots of money! it's not gorilla glass...   \n",
       "3       3  B0089CH3TM  The material and fit is very nice, but the col...   \n",
       "4       4  B00AKZWGAC  This last me about 3 days till i have to charg...   \n",
       "\n",
       "                                Rev_summ  \\\n",
       "0                   He's very happy with   \n",
       "1                             Five Stars   \n",
       "2  As long as you know how to put it on!   \n",
       "3                      Good case overall   \n",
       "4                        Awesome Battery   \n",
       "\n",
       "                                          new_review  \n",
       "0  Bought it for my husband. He's very happy with...  \n",
       "1  Great screen protector.  Doesn't even seem as ...  \n",
       "2  Saved me lots of money! it's not gorilla glass...  \n",
       "3  The material and fit is very nice, but the col...  \n",
       "4  This last me about 3 days till i have to charg...  "
      ]
     },
     "execution_count": 16,
     "metadata": {},
     "output_type": "execute_result"
    }
   ],
   "source": [
    "df.head()"
   ]
  },
  {
   "cell_type": "code",
   "execution_count": 17,
   "metadata": {},
   "outputs": [
    {
     "name": "stdout",
     "output_type": "stream",
     "text": [
      "This last me about 3 days till i have to charge it. It does take FOREVER to charge so make sure you plug it in early at night so it will be fully charged in the morning. Sometimes I will get home late (1AM) and when i wake up (10AM) 9 hours It will still be charging, only at 70-80%. And it will take another 2 to be fully charged. But if i have to go somewhere after i wake up it won't be fully charged.\n",
      "Anyways, great battery if you have the time to fully charge it.Awesome Battery\n"
     ]
    }
   ],
   "source": [
    "# Each review is stored as string in the `new_review` series. A sample product review is below:\n",
    "\n",
    "print(df[\"new_review\"].iloc[4])"
   ]
  },
  {
   "cell_type": "code",
   "execution_count": 18,
   "metadata": {},
   "outputs": [],
   "source": [
    "# Defining a function to covert every letter to lower case, removing tag and special characters and digits.\n",
    "\n",
    "import re\n",
    "def pre_process(new_review):\n",
    "    new_review=new_review.lower()\n",
    "    new_review=re.sub(\"\",\"\",new_review)\n",
    "    new_review=re.sub(\"(\\\\d|\\\\W)+\",\" \",new_review)\n",
    "    return new_review"
   ]
  },
  {
   "cell_type": "code",
   "execution_count": 19,
   "metadata": {},
   "outputs": [],
   "source": [
    "df['new_review'] = df['new_review'].apply(lambda x:pre_process(x))"
   ]
  },
  {
   "cell_type": "markdown",
   "metadata": {},
   "source": [
    "Stop words consist of the most commonly used words that include pronouns (e.g. us, she, their), articles (e.g. the),\n",
    "and prepositions (e.g. under, from, off). These words are not helpful in distinguishing a document from another and \n",
    "are therefore dropped.\n",
    "importing stopwords"
   ]
  },
  {
   "cell_type": "code",
   "execution_count": 20,
   "metadata": {},
   "outputs": [
    {
     "name": "stderr",
     "output_type": "stream",
     "text": [
      "[nltk_data] Downloading package stopwords to\n",
      "[nltk_data]     C:\\Users\\Admin\\AppData\\Roaming\\nltk_data...\n",
      "[nltk_data]   Package stopwords is already up-to-date!\n"
     ]
    }
   ],
   "source": [
    "import nltk\n",
    "nltk.download('stopwords')\n",
    "from nltk.corpus import stopwords\n",
    "stop=set(stopwords.words('english') + ['u', 'ü', 'ur', '4', '2', 'im', 'dont', 'doin', 'ure'])"
   ]
  },
  {
   "cell_type": "code",
   "execution_count": 21,
   "metadata": {},
   "outputs": [],
   "source": [
    "#importing count vectorizer and applying to the dataset converted to list\n",
    "\n",
    "from sklearn.feature_extraction.text import CountVectorizer\n",
    "\n",
    "#conversion of data to list\n",
    "docs=df['new_review'].tolist()\n",
    "cv=CountVectorizer(max_df=0.85,stop_words=stop,max_features=10000)\n",
    "word=cv.fit_transform(docs)"
   ]
  },
  {
   "cell_type": "code",
   "execution_count": 22,
   "metadata": {},
   "outputs": [
    {
     "data": {
      "text/plain": [
       "['bought',\n",
       " 'husband',\n",
       " 'happy',\n",
       " 'great',\n",
       " 'screen',\n",
       " 'protector',\n",
       " 'even',\n",
       " 'seem',\n",
       " 'though',\n",
       " 'therefive',\n",
       " 'stars',\n",
       " 'saved',\n",
       " 'lots',\n",
       " 'money',\n",
       " 'gorilla',\n",
       " 'glass',\n",
       " 'careful',\n",
       " 'subject',\n",
       " 'easier',\n",
       " 'scratching',\n",
       " 'also',\n",
       " 'sticky',\n",
       " 'stuff',\n",
       " 'like',\n",
       " 'original',\n",
       " 'press',\n",
       " 'hard',\n",
       " 'digitizer',\n",
       " 'go',\n",
       " 'crazy']"
      ]
     },
     "execution_count": 22,
     "metadata": {},
     "output_type": "execute_result"
    }
   ],
   "source": [
    "list(cv.vocabulary_.keys())[:30]"
   ]
  },
  {
   "cell_type": "code",
   "execution_count": 23,
   "metadata": {},
   "outputs": [
    {
     "data": {
      "text/plain": [
       "[]"
      ]
     },
     "execution_count": 23,
     "metadata": {},
     "output_type": "execute_result"
    }
   ],
   "source": [
    "list(cv.get_feature_names())[200000:200012]"
   ]
  },
  {
   "cell_type": "markdown",
   "metadata": {},
   "source": [
    "The Term Frequency-Inverse Document Frequency (*TF-IDF*) approach assigns continuous values instead of simple integers for the token frequency. Words that appear frequently overall tend to not establish saliency in a document, and are thus weighted lower. Words that are unique to some documents tend to help distinguish it from the rest and are thus weighted higher.\n"
   ]
  },
  {
   "cell_type": "code",
   "execution_count": 24,
   "metadata": {},
   "outputs": [
    {
     "data": {
      "text/plain": [
       "TfidfTransformer(norm='l2', smooth_idf=True, sublinear_tf=False, use_idf=True)"
      ]
     },
     "execution_count": 24,
     "metadata": {},
     "output_type": "execute_result"
    }
   ],
   "source": [
    "#importing tf-idf\n",
    "from sklearn.feature_extraction.text import TfidfTransformer\n",
    "\n",
    "tfidf_transformer=TfidfTransformer(smooth_idf=True,use_idf=True)\n",
    "tfidf_transformer.fit(word)"
   ]
  },
  {
   "cell_type": "code",
   "execution_count": 25,
   "metadata": {},
   "outputs": [],
   "source": [
    "def sort(matrix):\n",
    "    tuples = zip(matrix.col, matrix.data)\n",
    "    return sorted(tuples, key=lambda x: (x[1], x[0]), reverse=True)\n",
    "\n",
    "def extract_topn_from_vector(feature_names, sorted_items, topn=10):\n",
    "    \"\"\"get the feature names and tf-idf score of top n items\"\"\"\n",
    "    sorted_items = sorted_items[:topn]\n",
    "\n",
    "    score_vals = []\n",
    "    feature_vals = []\n",
    "\n",
    "    for x, score in sorted_items:\n",
    "        fname = feature_names[x]\n",
    "        score_vals.append(round(score, 4))\n",
    "        feature_vals.append(feature_names[x])\n",
    "    results= {}\n",
    "    for x in range(len(feature_vals)):\n",
    "        results[feature_vals[x]]=score_vals[x]\n",
    "    \n",
    "    return results"
   ]
  },
  {
   "cell_type": "code",
   "execution_count": 26,
   "metadata": {},
   "outputs": [
    {
     "name": "stdout",
     "output_type": "stream",
     "text": [
      "\\**************REVIEW****************\n",
      "['bought it for my husband he s very happy with ithe s very happy with', 'great screen protector doesn t even seem as though it s on therefive stars', 'saved me lots of money it s not gorilla glass so be careful as it will be subject to easier scratching it also doesn t have sticky stuff on the glass like the original if you press hard on the glass the digitizer will go crazy just shut the screen on and off and you ll be fine as long as you know how to put it on ', 'the material and fit is very nice but the color is more of a neon green than i expected or would have liked good case overall', 'this last me about days till i have to charge it it does take forever to charge so make sure you plug it in early at night so it will be fully charged in the morning sometimes i will get home late am and when i wake up am hours it will still be charging only at and it will take another to be fully charged but if i have to go somewhere after i wake up it won t be fully charged anyways great battery if you have the time to fully charge it awesome battery', 'love this case very sturdy five stars', 'great screen protector for the money paid with free shipping and it arrived way sooner than expected fits perfect on my iphone and looks better than the screen protector i had on it before i love the matte finish on it as well it feels and looks better than the glossy ones would most definitely buy again and recommend to anyone perfect ', 'nice charger one problem one if the two usb slots is misaligned allowing only one charging slot to be used at a time only noticed after the return window was closed be very sure that your items are working so you do not miss the return window if something should happen after that well that s why i continue to buy from brick and mortar stores bestbuy and so on make sure your items work before you miss the return window time out ', 'to tight on my phone and the bottom piece was missing one star', 'i bought this case for my wife i put it on her phone i was worried that it was a cheap case well i was far from the truth it fit perfect and it feels and looks great she loves it also i could not take it off because it snapped on tight i wanted to replace the screen protector i may have to try again some other day i would buy this again as the price is more than low and the built quality is better than i expected great fit and snaps tight', 'i wish i could give this zero stars very unhappy i missed the return window by days i was out of town and didn t realize there was a limit i tried this product i ordered two only opened and tried one it does not hold my phone steady it slips and slides around and turns sideways this is distracting and dangerous as i purchased this to mount my phone for using the gps option so now i am stuck with two of these pieces of junk and no way to get my money back do not buy i wish i could give this zero stars very ', 'the volume buttons work amazingly well they are seated perfectly the power button however is really badly placed it has about a mm width of actual contact with the power button the rest of the power button is useless like really useless you can put y ur entire thumb over the button and nothing will happen it sucks this case has so much potential i like everything about it but if i can t turn my screen on or off easily than what s the point because of this issue the case is more of an inconvenience than anything i really don t know how they can make the power button so badly seeing how the volume buttons are an absolute perfect fit what a shame almost perfect but the power button is not actually covered correctly', 'i recommend this product five stars', 'it was working perfectly for the last few weeks until last night when i plugged it into the power brick and plugged the powerline in it was not charging i don t know what is happening and i need help with this sorry i checked this morning and it was working fine i don t know what happened but crisis avertedwhat is happening ', 'the tools were great but the replacement screen was too foggytwo stars', 'great productfive stars', ' wrong this product is not what the ad mentions in this case for iphone s mentioned i delivered protectors iphone descontesto totally annoying and this product is a hoax besides this four guards were coming bent and one damaged wrong ', 'goodthree stars', 'i like the way it looks and feel my cell phone looks great in it the leather feel very soft i am glad that i pick this case evecase wallet folio leather case with hand strap for samsung galaxy mege', 'thank youfour stars', 'like it but the top pops off easy two stars', 'good quality looks expensive like real leather fits my galaxy s wellfour stars', 'love it such a handy case five stars', 'really easy to use setup and easy storage a ', 'it was really nice and easy to use and i really liked it the only bad thing it the strap is too small and breaks easilyok', 'perfect slim case not too strong but phone survived many drops perfect slim case ', 'personally i like it but shouldn t be called leather because its not but that alone does not concern me as much it provides the protection the phone needs and holds your cards and doubles as a stand pleather should be the name ', 'easy to install never had any bubbles and i ve gone through about of these the protector always cracks never my actual screen easy to install', 'this is a great phone especially for anyone newish to smartphones or android the user interface is simple and intuitive worked out of the box with cricket wireless sim and automatically pushed all the apps to the phone battery life is good paired right up with a variety of bluetooth headsets i bought two for neighbor friends he s a trucker and gone all week and she s up on a mountain with her grandkids helps them stay in touch with text and pics he gets much better service in more places than his older gsm phone and she doesn t have to miss calls from the kids school while she s out feeding the animals the reception is great in an area of wv in which reception has been very poor to non existent with other phones really is a great phone and a great price i purchased and used three other phones and none worked as well as this one no mms or text problems highly recommend especially if you are new to smartphones great phone easy to use good price', 'just as it is advertised no complaintsfive stars']\n",
      "\n",
      "*************Keywords**************\n",
      "supportive\n",
      "new\n",
      "love\n",
      "protective\n",
      "super\n",
      "looks\n",
      "works\n",
      "well\n",
      "case\n",
      "great\n",
      "phone\n"
     ]
    }
   ],
   "source": [
    "feature_names=cv.get_feature_names()\n",
    "\n",
    "doc=docs[30]\n",
    "tf_idf_vector=tfidf_transformer.transform(cv.transform([doc]))\n",
    "sorted_items=sort(tf_idf_vector.tocoo())\n",
    "keywords=extract_topn_from_vector(feature_names,sorted_items,30)\n",
    "print(\"\\**************REVIEW****************\")\n",
    "print(docs[0:30])\n",
    "print(\"\\n*************Keywords**************\")\n",
    "for k in keywords:\n",
    "    print(k)"
   ]
  },
  {
   "cell_type": "code",
   "execution_count": 27,
   "metadata": {},
   "outputs": [
    {
     "data": {
      "text/html": [
       "<div>\n",
       "<style scoped>\n",
       "    .dataframe tbody tr th:only-of-type {\n",
       "        vertical-align: middle;\n",
       "    }\n",
       "\n",
       "    .dataframe tbody tr th {\n",
       "        vertical-align: top;\n",
       "    }\n",
       "\n",
       "    .dataframe thead th {\n",
       "        text-align: right;\n",
       "    }\n",
       "</style>\n",
       "<table border=\"1\" class=\"dataframe\">\n",
       "  <thead>\n",
       "    <tr style=\"text-align: right;\">\n",
       "      <th></th>\n",
       "      <th>Summary</th>\n",
       "      <th>keywords</th>\n",
       "    </tr>\n",
       "  </thead>\n",
       "  <tbody>\n",
       "    <tr>\n",
       "      <td>0</td>\n",
       "      <td>bought it for my husband he s very happy with ...</td>\n",
       "      <td>{'happy': 0.7931, 'husband': 0.5121, 'bought':...</td>\n",
       "    </tr>\n",
       "    <tr>\n",
       "      <td>1</td>\n",
       "      <td>great screen protector doesn t even seem as th...</td>\n",
       "      <td>{'therefive': 0.7224, 'seem': 0.3764, 'though'...</td>\n",
       "    </tr>\n",
       "    <tr>\n",
       "      <td>2</td>\n",
       "      <td>saved me lots of money it s not gorilla glass ...</td>\n",
       "      <td>{'glass': 0.4301, 'subject': 0.2895, 'digitize...</td>\n",
       "    </tr>\n",
       "    <tr>\n",
       "      <td>3</td>\n",
       "      <td>the material and fit is very nice but the colo...</td>\n",
       "      <td>{'neon': 0.5143, 'green': 0.3846, 'liked': 0.3...</td>\n",
       "    </tr>\n",
       "    <tr>\n",
       "      <td>4</td>\n",
       "      <td>this last me about days till i have to charge ...</td>\n",
       "      <td>{'fully': 0.5042, 'charged': 0.3556, 'wake': 0...</td>\n",
       "    </tr>\n",
       "    <tr>\n",
       "      <td>...</td>\n",
       "      <td>...</td>\n",
       "      <td>...</td>\n",
       "    </tr>\n",
       "    <tr>\n",
       "      <td>664655</td>\n",
       "      <td>i love this nokia lumia unlocked phone fast an...</td>\n",
       "      <td>{'nokia': 0.602, 'lumia': 0.3127, 'windows': 0...</td>\n",
       "    </tr>\n",
       "    <tr>\n",
       "      <td>664656</td>\n",
       "      <td>great productfive stars</td>\n",
       "      <td>{'productfive': 0.8845, 'great': 0.3426, 'star...</td>\n",
       "    </tr>\n",
       "    <tr>\n",
       "      <td>664657</td>\n",
       "      <td>this iphone case is very durable and long last...</td>\n",
       "      <td>{'producti': 0.6213, 'lasting': 0.4613, 'love'...</td>\n",
       "    </tr>\n",
       "    <tr>\n",
       "      <td>664658</td>\n",
       "      <td>greatfive stars</td>\n",
       "      <td>{'greatfive': 0.9335, 'stars': 0.3586}</td>\n",
       "    </tr>\n",
       "    <tr>\n",
       "      <td>664659</td>\n",
       "      <td>so so it did not look like the picture adverti...</td>\n",
       "      <td>{'cam': 0.5683, 'hole': 0.419, 'picture': 0.36...</td>\n",
       "    </tr>\n",
       "  </tbody>\n",
       "</table>\n",
       "<p>664660 rows × 2 columns</p>\n",
       "</div>"
      ],
      "text/plain": [
       "                                                  Summary  \\\n",
       "0       bought it for my husband he s very happy with ...   \n",
       "1       great screen protector doesn t even seem as th...   \n",
       "2       saved me lots of money it s not gorilla glass ...   \n",
       "3       the material and fit is very nice but the colo...   \n",
       "4       this last me about days till i have to charge ...   \n",
       "...                                                   ...   \n",
       "664655  i love this nokia lumia unlocked phone fast an...   \n",
       "664656                            great productfive stars   \n",
       "664657  this iphone case is very durable and long last...   \n",
       "664658                                    greatfive stars   \n",
       "664659  so so it did not look like the picture adverti...   \n",
       "\n",
       "                                                 keywords  \n",
       "0       {'happy': 0.7931, 'husband': 0.5121, 'bought':...  \n",
       "1       {'therefive': 0.7224, 'seem': 0.3764, 'though'...  \n",
       "2       {'glass': 0.4301, 'subject': 0.2895, 'digitize...  \n",
       "3       {'neon': 0.5143, 'green': 0.3846, 'liked': 0.3...  \n",
       "4       {'fully': 0.5042, 'charged': 0.3556, 'wake': 0...  \n",
       "...                                                   ...  \n",
       "664655  {'nokia': 0.602, 'lumia': 0.3127, 'windows': 0...  \n",
       "664656  {'productfive': 0.8845, 'great': 0.3426, 'star...  \n",
       "664657  {'producti': 0.6213, 'lasting': 0.4613, 'love'...  \n",
       "664658             {'greatfive': 0.9335, 'stars': 0.3586}  \n",
       "664659  {'cam': 0.5683, 'hole': 0.419, 'picture': 0.36...  \n",
       "\n",
       "[664660 rows x 2 columns]"
      ]
     },
     "execution_count": 27,
     "metadata": {},
     "output_type": "execute_result"
    }
   ],
   "source": [
    "tf_idf_vector=tfidf_transformer.transform(cv.transform(docs))\n",
    "\n",
    "results=[]\n",
    "for i in range(tf_idf_vector.shape[0]):\n",
    "    curr_vector=tf_idf_vector[i]\n",
    "    sorted_items=sort(curr_vector.tocoo())\n",
    "    keywords=extract_topn_from_vector(feature_names,sorted_items,10)\n",
    "    results.append(keywords)\n",
    "\n",
    "nlp=pd.DataFrame(zip(docs,results),columns=['Summary','keywords'])\n",
    "nlp"
   ]
  },
  {
   "cell_type": "code",
   "execution_count": 28,
   "metadata": {},
   "outputs": [],
   "source": [
    "nlp['Itemcode']=df['IC']\n",
    "nlp['Max_Rating']=df['Rating'].max()\n",
    "nlp['Avg_Rating']=df['Rating'].unique().mean()\n",
    "nlp['Min_Rating']=df['Rating'].min()"
   ]
  },
  {
   "cell_type": "code",
   "execution_count": 29,
   "metadata": {},
   "outputs": [],
   "source": [
    "nlp = nlp[['Itemcode','Summary','keywords','Max_Rating','Min_Rating','Avg_Rating']]"
   ]
  },
  {
   "cell_type": "code",
   "execution_count": 30,
   "metadata": {},
   "outputs": [
    {
     "data": {
      "text/html": [
       "<div>\n",
       "<style scoped>\n",
       "    .dataframe tbody tr th:only-of-type {\n",
       "        vertical-align: middle;\n",
       "    }\n",
       "\n",
       "    .dataframe tbody tr th {\n",
       "        vertical-align: top;\n",
       "    }\n",
       "\n",
       "    .dataframe thead th {\n",
       "        text-align: right;\n",
       "    }\n",
       "</style>\n",
       "<table border=\"1\" class=\"dataframe\">\n",
       "  <thead>\n",
       "    <tr style=\"text-align: right;\">\n",
       "      <th></th>\n",
       "      <th>Itemcode</th>\n",
       "      <th>Summary</th>\n",
       "      <th>keywords</th>\n",
       "      <th>Max_Rating</th>\n",
       "      <th>Min_Rating</th>\n",
       "      <th>Avg_Rating</th>\n",
       "    </tr>\n",
       "  </thead>\n",
       "  <tbody>\n",
       "    <tr>\n",
       "      <td>0</td>\n",
       "      <td>B009XD5TPQ</td>\n",
       "      <td>bought it for my husband he s very happy with ...</td>\n",
       "      <td>{'happy': 0.7931, 'husband': 0.5121, 'bought':...</td>\n",
       "      <td>5</td>\n",
       "      <td>1</td>\n",
       "      <td>3.0</td>\n",
       "    </tr>\n",
       "    <tr>\n",
       "      <td>1</td>\n",
       "      <td>B016MF3P3K</td>\n",
       "      <td>great screen protector doesn t even seem as th...</td>\n",
       "      <td>{'therefive': 0.7224, 'seem': 0.3764, 'though'...</td>\n",
       "      <td>5</td>\n",
       "      <td>1</td>\n",
       "      <td>3.0</td>\n",
       "    </tr>\n",
       "    <tr>\n",
       "      <td>2</td>\n",
       "      <td>B008DC8N5G</td>\n",
       "      <td>saved me lots of money it s not gorilla glass ...</td>\n",
       "      <td>{'glass': 0.4301, 'subject': 0.2895, 'digitize...</td>\n",
       "      <td>5</td>\n",
       "      <td>1</td>\n",
       "      <td>3.0</td>\n",
       "    </tr>\n",
       "    <tr>\n",
       "      <td>3</td>\n",
       "      <td>B0089CH3TM</td>\n",
       "      <td>the material and fit is very nice but the colo...</td>\n",
       "      <td>{'neon': 0.5143, 'green': 0.3846, 'liked': 0.3...</td>\n",
       "      <td>5</td>\n",
       "      <td>1</td>\n",
       "      <td>3.0</td>\n",
       "    </tr>\n",
       "    <tr>\n",
       "      <td>4</td>\n",
       "      <td>B00AKZWGAC</td>\n",
       "      <td>this last me about days till i have to charge ...</td>\n",
       "      <td>{'fully': 0.5042, 'charged': 0.3556, 'wake': 0...</td>\n",
       "      <td>5</td>\n",
       "      <td>1</td>\n",
       "      <td>3.0</td>\n",
       "    </tr>\n",
       "  </tbody>\n",
       "</table>\n",
       "</div>"
      ],
      "text/plain": [
       "     Itemcode                                            Summary  \\\n",
       "0  B009XD5TPQ  bought it for my husband he s very happy with ...   \n",
       "1  B016MF3P3K  great screen protector doesn t even seem as th...   \n",
       "2  B008DC8N5G  saved me lots of money it s not gorilla glass ...   \n",
       "3  B0089CH3TM  the material and fit is very nice but the colo...   \n",
       "4  B00AKZWGAC  this last me about days till i have to charge ...   \n",
       "\n",
       "                                            keywords  Max_Rating  Min_Rating  \\\n",
       "0  {'happy': 0.7931, 'husband': 0.5121, 'bought':...           5           1   \n",
       "1  {'therefive': 0.7224, 'seem': 0.3764, 'though'...           5           1   \n",
       "2  {'glass': 0.4301, 'subject': 0.2895, 'digitize...           5           1   \n",
       "3  {'neon': 0.5143, 'green': 0.3846, 'liked': 0.3...           5           1   \n",
       "4  {'fully': 0.5042, 'charged': 0.3556, 'wake': 0...           5           1   \n",
       "\n",
       "   Avg_Rating  \n",
       "0         3.0  \n",
       "1         3.0  \n",
       "2         3.0  \n",
       "3         3.0  \n",
       "4         3.0  "
      ]
     },
     "execution_count": 30,
     "metadata": {},
     "output_type": "execute_result"
    }
   ],
   "source": [
    "nlp['Itemcode'].drop_duplicates(inplace=True)\n",
    "nlp.dropna(inplace=True)\n",
    "\n",
    "nlp.head()"
   ]
  },
  {
   "cell_type": "code",
   "execution_count": 31,
   "metadata": {},
   "outputs": [],
   "source": [
    "result=nlp.to_json('C:/Users/Admin/Desktop/Product_review/PRODUCT_REVIEW.json ')"
   ]
  },
  {
   "cell_type": "code",
   "execution_count": 32,
   "metadata": {},
   "outputs": [
    {
     "name": "stderr",
     "output_type": "stream",
     "text": [
      "C:\\Users\\Admin\\Anaconda3\\lib\\site-packages\\sklearn\\externals\\joblib\\__init__.py:15: DeprecationWarning: sklearn.externals.joblib is deprecated in 0.21 and will be removed in 0.23. Please import this functionality directly from joblib, which can be installed with: pip install joblib. If this warning is raised when loading pickled models, you may need to re-serialize those models with scikit-learn 0.21+.\n",
      "  warnings.warn(msg, category=DeprecationWarning)\n"
     ]
    },
    {
     "data": {
      "text/plain": [
       "['product_review.pkl']"
      ]
     },
     "execution_count": 32,
     "metadata": {},
     "output_type": "execute_result"
    }
   ],
   "source": [
    "#saving the model using joblib\n",
    "from sklearn.externals import joblib\n",
    "joblib.dump(tfidf_transformer,'product_review.pkl')"
   ]
  },
  {
   "cell_type": "code",
   "execution_count": null,
   "metadata": {},
   "outputs": [],
   "source": []
  }
 ],
 "metadata": {
  "kernelspec": {
   "display_name": "Python 3",
   "language": "python",
   "name": "python3"
  },
  "language_info": {
   "codemirror_mode": {
    "name": "ipython",
    "version": 3
   },
   "file_extension": ".py",
   "mimetype": "text/x-python",
   "name": "python",
   "nbconvert_exporter": "python",
   "pygments_lexer": "ipython3",
   "version": "3.7.4"
  }
 },
 "nbformat": 4,
 "nbformat_minor": 2
}
